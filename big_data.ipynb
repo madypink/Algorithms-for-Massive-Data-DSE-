{
  "cells": [
    {
      "cell_type": "markdown",
      "metadata": {
        "id": "view-in-github",
        "colab_type": "text"
      },
      "source": [
        "<a href=\"https://colab.research.google.com/github/maedehrabiee/Algorithms-for-Massive-Data-DSE-/blob/main/big_data.ipynb\" target=\"_parent\"><img src=\"https://colab.research.google.com/assets/colab-badge.svg\" alt=\"Open In Colab\"/></a>"
      ]
    },
    {
      "cell_type": "code",
      "execution_count": null,
      "metadata": {
        "id": "c6-CZamnvEZ4"
      },
      "outputs": [],
      "source": [
        "# Cell 1 — Minimal installs for Colab\n",
        "!pip install -q pyspark findspark kaggle\n"
      ]
    },
    {
      "cell_type": "code",
      "execution_count": null,
      "metadata": {
        "colab": {
          "base_uri": "https://localhost:8080/",
          "height": 88
        },
        "id": "-ZFParkxzixJ",
        "outputId": "446921a0-2e59-4873-9c68-2bd8ffd7e9c6"
      },
      "outputs": [
        {
          "output_type": "display_data",
          "data": {
            "text/plain": [
              "<IPython.core.display.HTML object>"
            ],
            "text/html": [
              "\n",
              "     <input type=\"file\" id=\"files-bcb189e7-2a98-4163-aa55-732ff43ff4cd\" name=\"files[]\" multiple disabled\n",
              "        style=\"border:none\" />\n",
              "     <output id=\"result-bcb189e7-2a98-4163-aa55-732ff43ff4cd\">\n",
              "      Upload widget is only available when the cell has been executed in the\n",
              "      current browser session. Please rerun this cell to enable.\n",
              "      </output>\n",
              "      <script>// Copyright 2017 Google LLC\n",
              "//\n",
              "// Licensed under the Apache License, Version 2.0 (the \"License\");\n",
              "// you may not use this file except in compliance with the License.\n",
              "// You may obtain a copy of the License at\n",
              "//\n",
              "//      http://www.apache.org/licenses/LICENSE-2.0\n",
              "//\n",
              "// Unless required by applicable law or agreed to in writing, software\n",
              "// distributed under the License is distributed on an \"AS IS\" BASIS,\n",
              "// WITHOUT WARRANTIES OR CONDITIONS OF ANY KIND, either express or implied.\n",
              "// See the License for the specific language governing permissions and\n",
              "// limitations under the License.\n",
              "\n",
              "/**\n",
              " * @fileoverview Helpers for google.colab Python module.\n",
              " */\n",
              "(function(scope) {\n",
              "function span(text, styleAttributes = {}) {\n",
              "  const element = document.createElement('span');\n",
              "  element.textContent = text;\n",
              "  for (const key of Object.keys(styleAttributes)) {\n",
              "    element.style[key] = styleAttributes[key];\n",
              "  }\n",
              "  return element;\n",
              "}\n",
              "\n",
              "// Max number of bytes which will be uploaded at a time.\n",
              "const MAX_PAYLOAD_SIZE = 100 * 1024;\n",
              "\n",
              "function _uploadFiles(inputId, outputId) {\n",
              "  const steps = uploadFilesStep(inputId, outputId);\n",
              "  const outputElement = document.getElementById(outputId);\n",
              "  // Cache steps on the outputElement to make it available for the next call\n",
              "  // to uploadFilesContinue from Python.\n",
              "  outputElement.steps = steps;\n",
              "\n",
              "  return _uploadFilesContinue(outputId);\n",
              "}\n",
              "\n",
              "// This is roughly an async generator (not supported in the browser yet),\n",
              "// where there are multiple asynchronous steps and the Python side is going\n",
              "// to poll for completion of each step.\n",
              "// This uses a Promise to block the python side on completion of each step,\n",
              "// then passes the result of the previous step as the input to the next step.\n",
              "function _uploadFilesContinue(outputId) {\n",
              "  const outputElement = document.getElementById(outputId);\n",
              "  const steps = outputElement.steps;\n",
              "\n",
              "  const next = steps.next(outputElement.lastPromiseValue);\n",
              "  return Promise.resolve(next.value.promise).then((value) => {\n",
              "    // Cache the last promise value to make it available to the next\n",
              "    // step of the generator.\n",
              "    outputElement.lastPromiseValue = value;\n",
              "    return next.value.response;\n",
              "  });\n",
              "}\n",
              "\n",
              "/**\n",
              " * Generator function which is called between each async step of the upload\n",
              " * process.\n",
              " * @param {string} inputId Element ID of the input file picker element.\n",
              " * @param {string} outputId Element ID of the output display.\n",
              " * @return {!Iterable<!Object>} Iterable of next steps.\n",
              " */\n",
              "function* uploadFilesStep(inputId, outputId) {\n",
              "  const inputElement = document.getElementById(inputId);\n",
              "  inputElement.disabled = false;\n",
              "\n",
              "  const outputElement = document.getElementById(outputId);\n",
              "  outputElement.innerHTML = '';\n",
              "\n",
              "  const pickedPromise = new Promise((resolve) => {\n",
              "    inputElement.addEventListener('change', (e) => {\n",
              "      resolve(e.target.files);\n",
              "    });\n",
              "  });\n",
              "\n",
              "  const cancel = document.createElement('button');\n",
              "  inputElement.parentElement.appendChild(cancel);\n",
              "  cancel.textContent = 'Cancel upload';\n",
              "  const cancelPromise = new Promise((resolve) => {\n",
              "    cancel.onclick = () => {\n",
              "      resolve(null);\n",
              "    };\n",
              "  });\n",
              "\n",
              "  // Wait for the user to pick the files.\n",
              "  const files = yield {\n",
              "    promise: Promise.race([pickedPromise, cancelPromise]),\n",
              "    response: {\n",
              "      action: 'starting',\n",
              "    }\n",
              "  };\n",
              "\n",
              "  cancel.remove();\n",
              "\n",
              "  // Disable the input element since further picks are not allowed.\n",
              "  inputElement.disabled = true;\n",
              "\n",
              "  if (!files) {\n",
              "    return {\n",
              "      response: {\n",
              "        action: 'complete',\n",
              "      }\n",
              "    };\n",
              "  }\n",
              "\n",
              "  for (const file of files) {\n",
              "    const li = document.createElement('li');\n",
              "    li.append(span(file.name, {fontWeight: 'bold'}));\n",
              "    li.append(span(\n",
              "        `(${file.type || 'n/a'}) - ${file.size} bytes, ` +\n",
              "        `last modified: ${\n",
              "            file.lastModifiedDate ? file.lastModifiedDate.toLocaleDateString() :\n",
              "                                    'n/a'} - `));\n",
              "    const percent = span('0% done');\n",
              "    li.appendChild(percent);\n",
              "\n",
              "    outputElement.appendChild(li);\n",
              "\n",
              "    const fileDataPromise = new Promise((resolve) => {\n",
              "      const reader = new FileReader();\n",
              "      reader.onload = (e) => {\n",
              "        resolve(e.target.result);\n",
              "      };\n",
              "      reader.readAsArrayBuffer(file);\n",
              "    });\n",
              "    // Wait for the data to be ready.\n",
              "    let fileData = yield {\n",
              "      promise: fileDataPromise,\n",
              "      response: {\n",
              "        action: 'continue',\n",
              "      }\n",
              "    };\n",
              "\n",
              "    // Use a chunked sending to avoid message size limits. See b/62115660.\n",
              "    let position = 0;\n",
              "    do {\n",
              "      const length = Math.min(fileData.byteLength - position, MAX_PAYLOAD_SIZE);\n",
              "      const chunk = new Uint8Array(fileData, position, length);\n",
              "      position += length;\n",
              "\n",
              "      const base64 = btoa(String.fromCharCode.apply(null, chunk));\n",
              "      yield {\n",
              "        response: {\n",
              "          action: 'append',\n",
              "          file: file.name,\n",
              "          data: base64,\n",
              "        },\n",
              "      };\n",
              "\n",
              "      let percentDone = fileData.byteLength === 0 ?\n",
              "          100 :\n",
              "          Math.round((position / fileData.byteLength) * 100);\n",
              "      percent.textContent = `${percentDone}% done`;\n",
              "\n",
              "    } while (position < fileData.byteLength);\n",
              "  }\n",
              "\n",
              "  // All done.\n",
              "  yield {\n",
              "    response: {\n",
              "      action: 'complete',\n",
              "    }\n",
              "  };\n",
              "}\n",
              "\n",
              "scope.google = scope.google || {};\n",
              "scope.google.colab = scope.google.colab || {};\n",
              "scope.google.colab._files = {\n",
              "  _uploadFiles,\n",
              "  _uploadFilesContinue,\n",
              "};\n",
              "})(self);\n",
              "</script> "
            ]
          },
          "metadata": {}
        },
        {
          "output_type": "stream",
          "name": "stdout",
          "text": [
            "Saving kaggle.json to kaggle (2).json\n",
            "Kaggle credentials set at: /root/.kaggle/kaggle.json\n"
          ]
        }
      ],
      "source": [
        "# Cell 2 — Kaggle auth (robust; works even if Colab renames file to \"kaggle (3).json\")\n",
        "from google.colab import files\n",
        "import os\n",
        "\n",
        "# upload once per runtime and pick the actual saved name\n",
        "uploaded = files.upload()                  # select your kaggle.json\n",
        "kaggle_json_name = next(iter(uploaded))    # actual name saved by Colab\n",
        "\n",
        "# write credentials to ~/.kaggle/kaggle.json\n",
        "kaggle_dir = os.path.expanduser(\"~/.kaggle\")\n",
        "os.makedirs(kaggle_dir, exist_ok=True)\n",
        "target_path = os.path.join(kaggle_dir, \"kaggle.json\")\n",
        "\n",
        "with open(target_path, \"wb\") as f:\n",
        "    f.write(uploaded[kaggle_json_name])\n",
        "\n",
        "# required permissions\n",
        "os.chmod(target_path, 0o600)\n",
        "\n",
        "print(\"Kaggle credentials set at:\", target_path)\n"
      ]
    },
    {
      "cell_type": "code",
      "execution_count": null,
      "metadata": {
        "colab": {
          "base_uri": "https://localhost:8080/"
        },
        "id": "-7ee7ZbwzizQ",
        "outputId": "91f79d3c-9b56-4d19-83a8-735f125b394b"
      },
      "outputs": [
        {
          "output_type": "stream",
          "name": "stdout",
          "text": [
            "Dataset URL: https://www.kaggle.com/datasets/mohamedbakhet/amazon-books-reviews\n",
            "License(s): CC0-1.0\n",
            "CSV path: /content/data/Books_rating.csv\n"
          ]
        }
      ],
      "source": [
        "# Cell 3 — Download dataset from Kaggle and unzip\n",
        "DATASET_ID = \"mohamedbakhet/amazon-books-reviews\"\n",
        "!kaggle datasets download -d {DATASET_ID} -p /content -q\n",
        "!unzip -o /content/amazon-books-reviews.zip -d /content/data > /dev/null\n",
        "\n",
        "CSV_PATH = \"/content/data/Books_rating.csv\"  # adjust if the filename differs\n",
        "print(\"CSV path:\", CSV_PATH)\n"
      ]
    },
    {
      "cell_type": "code",
      "execution_count": null,
      "metadata": {
        "colab": {
          "base_uri": "https://localhost:8080/"
        },
        "id": "0czN9zVSzi3D",
        "outputId": "48114e0e-5afc-4cf5-d558-93d37635f031"
      },
      "outputs": [
        {
          "output_type": "stream",
          "name": "stdout",
          "text": [
            "Spark version: 3.5.1\n"
          ]
        }
      ],
      "source": [
        "# Cell 4 — Start Spark (Colab-friendly)\n",
        "import findspark; findspark.init()\n",
        "from pyspark.sql import SparkSession\n",
        "\n",
        "spark = (SparkSession.builder\n",
        "         .appName(\"AmazonReviewSimilarity-Final\")\n",
        "         .getOrCreate())\n",
        "print(\"Spark version:\", spark.version)\n"
      ]
    },
    {
      "cell_type": "code",
      "execution_count": null,
      "metadata": {
        "colab": {
          "base_uri": "https://localhost:8080/"
        },
        "id": "pRKTCDbfzi70",
        "outputId": "79843d59-819a-46a6-ae49-da9b5a3ed7ae"
      },
      "outputs": [
        {
          "output_type": "stream",
          "name": "stdout",
          "text": [
            "Loaded columns: ['Id', 'Title', 'Price', 'User_id', 'profileName', 'review/helpfulness', 'review/score', 'review/time', 'review/summary', 'review/text']\n",
            "Approx rows: 3000000\n",
            "+----------+------------------------------+-----+--------------+---------------------+------------------+------------+-----------+-----------------------------------------------+------------------------------------------------------------------------------------------------------------------------------------------------------------------------------------------------------------------------------------------------------------------------------------------------------------------------------------------------------------------------------------------------------------------------------------------------------------------------------------------------------------------------------------------------------------------------------------------------------------------------------------------------------------------------------------------------------------------------------------------------------------------------------------------------------------------------------------------------------------------------------------------------------------------------------------------------------------------------------------------------------------------------------------------------------------------------------------------------------------------------------------------------------------------------------------------------------------------------------------------------------------------------------------------------------------------------------------------------------------------------------------------------------------------------------------------------------------------------------------------------------------------------------------------------------------------------------------------------------------------------------------------------------------------------------------------------------------------------------------------------------------------------------------------------------------------------+\n",
            "|Id        |Title                         |Price|User_id       |profileName          |review/helpfulness|review/score|review/time|review/summary                                 |review/text                                                                                                                                                                                                                                                                                                                                                                                                                                                                                                                                                                                                                                                                                                                                                                                                                                                                                                                                                                                                                                                                                                                                                                                                                                                                                                                                                                                                                                                                                                                                                                                                                                                                                                                                                                                                             |\n",
            "+----------+------------------------------+-----+--------------+---------------------+------------------+------------+-----------+-----------------------------------------------+------------------------------------------------------------------------------------------------------------------------------------------------------------------------------------------------------------------------------------------------------------------------------------------------------------------------------------------------------------------------------------------------------------------------------------------------------------------------------------------------------------------------------------------------------------------------------------------------------------------------------------------------------------------------------------------------------------------------------------------------------------------------------------------------------------------------------------------------------------------------------------------------------------------------------------------------------------------------------------------------------------------------------------------------------------------------------------------------------------------------------------------------------------------------------------------------------------------------------------------------------------------------------------------------------------------------------------------------------------------------------------------------------------------------------------------------------------------------------------------------------------------------------------------------------------------------------------------------------------------------------------------------------------------------------------------------------------------------------------------------------------------------------------------------------------------------+\n",
            "|1882931173|Its Only Art If Its Well Hung!|NULL |AVCGYZL8FQQTD |Jim of Oz \"jim-of-oz\"|7/7               |4.0         |940636800  |Nice collection of Julie Strain images         |This is only for Julie Strain fans. It's a collection of her photos -- about 80 pages worth with a nice section of paintings by Olivia.If you're looking for heavy literary content, this isn't the place to find it -- there's only about 2 pages with text and everything else is photos.Bottom line: if you only want one book, the Six Foot One ... is probably a better choice, however, if you like Julie like I like Julie, you won't go wrong on this one either.                                                                                                                                                                                                                                                                                                                                                                                                                                                                                                                                                                                                                                                                                                                                                                                                                                                                                                                                                                                                                                                                                                                                                                                                                                                                                                                                               |\n",
            "|0826414346|Dr. Seuss: American Icon      |NULL |A30TK6U7DNS82R|Kevin Killian        |10/10             |5.0         |1095724800 |Really Enjoyed It                              |I don't care much for Dr. Seuss but after reading Philip Nel's book I changed my mind--that's a good testimonial to the power of Rel's writing and thinking. Rel plays Dr. Seuss the ultimate compliment of treating him as a serious poet as well as one of the 20th century's most interesting visual artists, and after reading his book I decided that a trip to the Mandeville Collections of the library at University of California in San Diego was in order, so I could visit some of the incredible Seuss/Geisel holdings they have there.There's almost too much to take in, for, like William Butler Yeats, Seuss led a career that constantly shifted and metamoprhized itself to meet new historical and political cirsumstances, so he seems to have been both a leftist and a conservative at different junctures of his career, both in politics and in art. As Nel shows us, he was once a cartoonist for the fabled PM magazine and, like Andy Warhol, he served his time slaving in the ad business too. All was in the service of amusing and broadening the minds of US children. Nel doesn't hesitate to administer a sound spanking to the Seuss industry that, since his death, has seen fit to license all kinds of awful products including the recent CAT IN THE HAT film with Mike Myers. Oh, what a cat-astrophe!The book is great and I can especially recommend the work of the picture editor who has given us a bounty of good illustrations.                                                                                                                                                                                                                                                                                                                                         |\n",
            "|0826414346|Dr. Seuss: American Icon      |NULL |A3UH4UZ4RSVO82|John Granger         |10/11             |5.0         |1078790400 |Essential for every personal and Public Library|If people become the books they read and if \"the child is father to the man,\" then Dr. Seuss (Theodor Seuss Geisel) is the most influential author, poet, and artist of modern times. For me, a daddy to a large family who learned to read with Dr. Seuss and who has memorized too many of the books via repeated readings to young children, Prof. Nel's brilliant 'American Icon' is a long awaited treat. At last a serious treatment of this remarkable genius that is both an engaging read and filled with remarkable insights! I especially enjoyed (and learned more than I care to admit from) Prof. Nel's discussions of the Disneyfication of Seuss - which Nel links to failings in American copyright law, \"the other sides of Dr. Seuss\" - all of which sides were new to me, and the political genesis of his secular morality in the WWII cartoon work he did at PM magazine. The chapters on Geisel's poetry and artwork and the link Nel makes between Seuss and the historical avant guarde alone make this book a \"must buy\" for parents and serious readers, not to mention public libraries. Readers of Nel's other books will find the same engaging writing style that makes the book a fun read while imparting a mountain of information and important ideas. This is simply the best and most comprehensive book yet written on the work of Seuss Geisel and what will certainly be the standard for many years to come. Thank you, Prof. Nel, wherever you are, from a reader who grew up with the good doctor and who is growing up with him again years later. Your book, written from your encyclopeadic knowledge of children's literature and the media of this genre - from scanning verse to cubist painting! - explains the power, limits, and popularity of the Seuss phenomenon.|\n",
            "+----------+------------------------------+-----+--------------+---------------------+------------------+------------+-----------+-----------------------------------------------+------------------------------------------------------------------------------------------------------------------------------------------------------------------------------------------------------------------------------------------------------------------------------------------------------------------------------------------------------------------------------------------------------------------------------------------------------------------------------------------------------------------------------------------------------------------------------------------------------------------------------------------------------------------------------------------------------------------------------------------------------------------------------------------------------------------------------------------------------------------------------------------------------------------------------------------------------------------------------------------------------------------------------------------------------------------------------------------------------------------------------------------------------------------------------------------------------------------------------------------------------------------------------------------------------------------------------------------------------------------------------------------------------------------------------------------------------------------------------------------------------------------------------------------------------------------------------------------------------------------------------------------------------------------------------------------------------------------------------------------------------------------------------------------------------------------------+\n",
            "only showing top 3 rows\n",
            "\n"
          ]
        }
      ],
      "source": [
        "# Cell 5 — Robust CSV load (multiline-safe) + quick peek\n",
        "df_raw = (spark.read\n",
        "          .option(\"header\", True)\n",
        "          .option(\"multiLine\", True)   # reviews can span multiple lines\n",
        "          .option(\"escape\", \"\\\"\")      # handle embedded quotes properly\n",
        "          .csv(CSV_PATH))\n",
        "\n",
        "print(\"Loaded columns:\", df_raw.columns)\n",
        "print(\"Approx rows:\", df_raw.count())\n",
        "df_raw.show(3, truncate=False)\n"
      ]
    },
    {
      "cell_type": "code",
      "execution_count": null,
      "metadata": {
        "colab": {
          "base_uri": "https://localhost:8080/"
        },
        "id": "QcrJOwDS4DDm",
        "outputId": "26c49905-f176-4db5-9daf-86489794f06d"
      },
      "outputs": [
        {
          "output_type": "stream",
          "name": "stdout",
          "text": [
            "Rows after basic filtering: 2999992\n",
            "+--------------------------------------------------------------------------------------------------------------------------------------------------------------------------------------------------------------------------------------------------------------------------------------------------------------------------------------------------------------------------------------------------------------------------------------------------------------------------------------------------------------------------------------------------------------------------------------------------------------------------------------------------------------------------------------------------------------------------------------------------------------------------------------------------------------------------------------------------------------------------------------------------------------------------------------------------------------------------------------------------------------------------------------------------------------------------------------------------------------------------------------------------------------------------------------------------------------------------------------------------------------------------------------------------------------------------------------------------------------------------------------------------------------------------------------------------------------------------------------------------------------------------------------------------------------------------------------------------------------------------------------------------------------------------------------------------------------------------------------------------------------------------------------------------------------------------------------------------------------------------------------------------------------------------------------------------------------------------------------------------------------------------------------------------------------------------------------------------------------------------------------------------------------------------------------------------------------------------------------------------------------------------------------------------------------------------------------------------------------------------------------------------------------------------------------------------------------------------------------------------------------------------------------------------------------------------------------------------------------------------------------------------------------------------------------------------------------------------------------------------------------------------------------------------------------------------------------------------------------------------------------------------------------------------------------------------------------------------------------------------------------------------------------------------------------------------------------------------------------------------------------------------------------------------------------------------------------------------------------------------------------------------------------------------------------------------------------------------------------------------------------------------------------------------------------------------------------------------------------------------------------------------------------------------------------------------------------------------------------------------------------------------------------------------------------------------------------------------------------------------------------------------------------------------------------+----------+-----------------------------------------------+\n",
            "|review_text                                                                                                                                                                                                                                                                                                                                                                                                                                                                                                                                                                                                                                                                                                                                                                                                                                                                                                                                                                                                                                                                                                                                                                                                                                                                                                                                                                                                                                                                                                                                                                                                                                                                                                                                                                                                                                                                                                                                                                                                                                                                                                                                                                                                                                                                                                                                                                                                                                                                                                                                                                                                                                                                                                                                                                                                                                                                                                                                                                                                                                                                                                                                                                                                                                                                                                                                                                                                                                                                                                                                                                                                                                                                                                                                                                                                   |review_id |title                                          |\n",
            "+--------------------------------------------------------------------------------------------------------------------------------------------------------------------------------------------------------------------------------------------------------------------------------------------------------------------------------------------------------------------------------------------------------------------------------------------------------------------------------------------------------------------------------------------------------------------------------------------------------------------------------------------------------------------------------------------------------------------------------------------------------------------------------------------------------------------------------------------------------------------------------------------------------------------------------------------------------------------------------------------------------------------------------------------------------------------------------------------------------------------------------------------------------------------------------------------------------------------------------------------------------------------------------------------------------------------------------------------------------------------------------------------------------------------------------------------------------------------------------------------------------------------------------------------------------------------------------------------------------------------------------------------------------------------------------------------------------------------------------------------------------------------------------------------------------------------------------------------------------------------------------------------------------------------------------------------------------------------------------------------------------------------------------------------------------------------------------------------------------------------------------------------------------------------------------------------------------------------------------------------------------------------------------------------------------------------------------------------------------------------------------------------------------------------------------------------------------------------------------------------------------------------------------------------------------------------------------------------------------------------------------------------------------------------------------------------------------------------------------------------------------------------------------------------------------------------------------------------------------------------------------------------------------------------------------------------------------------------------------------------------------------------------------------------------------------------------------------------------------------------------------------------------------------------------------------------------------------------------------------------------------------------------------------------------------------------------------------------------------------------------------------------------------------------------------------------------------------------------------------------------------------------------------------------------------------------------------------------------------------------------------------------------------------------------------------------------------------------------------------------------------------------------------------------------------------+----------+-----------------------------------------------+\n",
            "|This is only for Julie Strain fans. It's a collection of her photos -- about 80 pages worth with a nice section of paintings by Olivia.If you're looking for heavy literary content, this isn't the place to find it -- there's only about 2 pages with text and everything else is photos.Bottom line: if you only want one book, the Six Foot One ... is probably a better choice, however, if you like Julie like I like Julie, you won't go wrong on this one either.                                                                                                                                                                                                                                                                                                                                                                                                                                                                                                                                                                                                                                                                                                                                                                                                                                                                                                                                                                                                                                                                                                                                                                                                                                                                                                                                                                                                                                                                                                                                                                                                                                                                                                                                                                                                                                                                                                                                                                                                                                                                                                                                                                                                                                                                                                                                                                                                                                                                                                                                                                                                                                                                                                                                                                                                                                                                                                                                                                                                                                                                                                                                                                                                                                                                                                                                     |1882931173|Nice collection of Julie Strain images         |\n",
            "|I don't care much for Dr. Seuss but after reading Philip Nel's book I changed my mind--that's a good testimonial to the power of Rel's writing and thinking. Rel plays Dr. Seuss the ultimate compliment of treating him as a serious poet as well as one of the 20th century's most interesting visual artists, and after reading his book I decided that a trip to the Mandeville Collections of the library at University of California in San Diego was in order, so I could visit some of the incredible Seuss/Geisel holdings they have there.There's almost too much to take in, for, like William Butler Yeats, Seuss led a career that constantly shifted and metamoprhized itself to meet new historical and political cirsumstances, so he seems to have been both a leftist and a conservative at different junctures of his career, both in politics and in art. As Nel shows us, he was once a cartoonist for the fabled PM magazine and, like Andy Warhol, he served his time slaving in the ad business too. All was in the service of amusing and broadening the minds of US children. Nel doesn't hesitate to administer a sound spanking to the Seuss industry that, since his death, has seen fit to license all kinds of awful products including the recent CAT IN THE HAT film with Mike Myers. Oh, what a cat-astrophe!The book is great and I can especially recommend the work of the picture editor who has given us a bounty of good illustrations.                                                                                                                                                                                                                                                                                                                                                                                                                                                                                                                                                                                                                                                                                                                                                                                                                                                                                                                                                                                                                                                                                                                                                                                                                                                                                                                                                                                                                                                                                                                                                                                                                                                                                                                                                                                                                                                                                                                                                                                                                                                                                                                                                                                                                                                                                                                               |0826414346|Really Enjoyed It                              |\n",
            "|If people become the books they read and if \"the child is father to the man,\" then Dr. Seuss (Theodor Seuss Geisel) is the most influential author, poet, and artist of modern times. For me, a daddy to a large family who learned to read with Dr. Seuss and who has memorized too many of the books via repeated readings to young children, Prof. Nel's brilliant 'American Icon' is a long awaited treat. At last a serious treatment of this remarkable genius that is both an engaging read and filled with remarkable insights! I especially enjoyed (and learned more than I care to admit from) Prof. Nel's discussions of the Disneyfication of Seuss - which Nel links to failings in American copyright law, \"the other sides of Dr. Seuss\" - all of which sides were new to me, and the political genesis of his secular morality in the WWII cartoon work he did at PM magazine. The chapters on Geisel's poetry and artwork and the link Nel makes between Seuss and the historical avant guarde alone make this book a \"must buy\" for parents and serious readers, not to mention public libraries. Readers of Nel's other books will find the same engaging writing style that makes the book a fun read while imparting a mountain of information and important ideas. This is simply the best and most comprehensive book yet written on the work of Seuss Geisel and what will certainly be the standard for many years to come. Thank you, Prof. Nel, wherever you are, from a reader who grew up with the good doctor and who is growing up with him again years later. Your book, written from your encyclopeadic knowledge of children's literature and the media of this genre - from scanning verse to cubist painting! - explains the power, limits, and popularity of the Seuss phenomenon.                                                                                                                                                                                                                                                                                                                                                                                                                                                                                                                                                                                                                                                                                                                                                                                                                                                                                                                                                                                                                                                                                                                                                                                                                                                                                                                                                                                                                                                                                                                                                                                                                                                                                                                                                                                                                                                                                                                                                                                      |0826414346|Essential for every personal and Public Library|\n",
            "|Theodore Seuss Geisel (1904-1991), aka &quot;Dr. Seuss,&quot; was one of the most influential writers and artists of the 20th century.In 1959, Rudolf Flesch wrote, &quot;A hundred years from now, children and their parents will still eagerly read the books of a fellow called Ted Geisel, popularly known as Dr. Seuss.&quot;Flesch was too conservative in his prediction. A century, and more, from today, Dr. Seuss will still be read when many authors on today's bestseller lists will be forgotten.Published on the centenary of Geisel's birth, Dr. Seuss: American Icon analyzes six key aspects of Seuss's career: poetry, politics, art, biography, marketing, and influence.In six insightful chapters, Philip Nel, Assistant Professor of English at Kansas State University, discusses &quot;U.S. Laureate of Nonsense,&quot; &quot;Dr. Seuss vs. Adolf Hitler,&quot; &quot;The Doc in the Smock,&quot; &quot;The 5,000 Fingers of Dr. S.,&quot; &quot;The Disneyfication of Dr. Seuss,&quot; and &quot;The Cat in the Hat for President.&quot;Nel gives short shrift to Geisel's childhood and family background--and, indeed, to biography in general--preferring to focus on Seuss's writing and art, from his first book, And to Think That I Saw It on Mulberry Street (1937) to his last book, Oh, the Places You'll Go! (1990).Dr. Seuss's breakthrough year was 1957, when he published the two books with which he is most often identified: The Cat in the Hat and How the Grinch Stole Christmas!Other classic works in the Seussian canon are: Horton Hears a Who! (&quot;A person's a person, no matter how small&quot;), Yertle the Turtle (modeled on the rise of Adolf Hitler), Green Eggs and Ham (Seuss's bestselling book), The Sneeches (a criticism of anti-Semitism), The Lorax (a protest against corporate abuse of the environment), and The Butter Battle Book (a critique of Reagan's enthusiasm for the nuclear arms trace).His favorite work, among the books he authored, was The Cat in the Hat, for it, more than any other, taught children to read.While many of his books have a clear and powerful moral, Seuss had a horror of heavy-handed preaching. He sought to teach and ignite the imagination, but was a lifelong opponent of smug, self-righteous bourgeois moralism.&quot;Seuss was a contrarian,&quot; writes Nel, &quot;who enjoyed challenging people to reconsider their assumptions. [He had a] rebellious imagination and a dispositional distaste for rules and regulations.&quot; His work was a &quot;rational insanity&quot; that exhibited &quot;joyous anarchy&quot; and a &quot;lifelong thrill in misbehaving.&quot;A better subtitle for Nel's work would have been American Icon and Iconoclast.Nel tells of Seuss's early years as an advertising artist and as a agitprop cartoonist. The book, however, is not a biography; it is a serious study in the genres of literary and art criticism.For readers who want more biographical information, Nel recommends Dr. Seuss and Mr. Geisel, by Judith Morgan and Neil Morgan (1995), which he describes as &quot;the definitive biography and the single best secondary source on Seuss. Any discussion of Seuss's life and work must begin with this book.&quot;Dr. Seuss: American Icon includes 103 pages of notes, index, and the most comprehensive annotated Seuss bibliography ever assembled. One learns a lot from this book; the author's lucid style makes it not only an enlightening work but a fun read.Philip Nel is the author of J. K. Rowling's Harry Potter Novels: A Reader's Guide (2001) and The Avant-Garde and American Postmodernity (2002).Roy E. Perry of Nolensville, Tennessee, is an advertising copywriter at a Nashville publishing house.|0826414346|Phlip Nel gives silly Seuss a serious treatment|\n",
            "|Philip Nel - Dr. Seuss: American IconThis is basically an academic overview of Seuss poetry, art, cartoons, and the problems with the commercialization of the Seuss name and works after his death. It is not, to any real extent, a biography. Those seeking such should move on.As an academic book it leans on the dry side. It assumes the reader has a fairly good knowledge of Children's Literature and 20th Century cartoons (not the animated kind). Not a book to begin your Dr. Seuss experience with. But if you have read them to your children and are interested about the writing style (there is a good chapter about his poetry) or his art style (not as good a chapter, but still interesting).What interested me the most was the deconstruction of the recent rush to \"cash in\" on Seuss by Hollywood and advertisers. I think that Nel wants to come down against it, but based on Seuss' background (he started out drawing Flit ads) and the projects he approved during his lifetime; it is a tough argument to make. In the end though Nel does point out that maybe the movies and tie- ins did not have to be so... crass?The book is well researched; lots of neat tidbits are to be gleamed. Early cartoons by Seuss for PM magazine were occasionally (by today's standards) shockingly racist. It makes him a little more human and puts his latter works like the Lorax in a new light.Those in Education may enjoy this background. Fans of Seuss will enjoy the exhaustive bibliography of Seuss's many, many works. Also good list of other works about the man.                                                                                                                                                                                                                                                                                                                                                                                                                                                                                                                                                                                                                                                                                                                                                                                                                                                                                                                                                                                                                                                                                                                                                                                                                                                                                                                                                                                                                                                                                                                                                                                                                                                                                                                                                                                                                                                                                                                                                                                                                                                                                                                                                                                                        |0826414346|Good academic overview                         |\n",
            "+--------------------------------------------------------------------------------------------------------------------------------------------------------------------------------------------------------------------------------------------------------------------------------------------------------------------------------------------------------------------------------------------------------------------------------------------------------------------------------------------------------------------------------------------------------------------------------------------------------------------------------------------------------------------------------------------------------------------------------------------------------------------------------------------------------------------------------------------------------------------------------------------------------------------------------------------------------------------------------------------------------------------------------------------------------------------------------------------------------------------------------------------------------------------------------------------------------------------------------------------------------------------------------------------------------------------------------------------------------------------------------------------------------------------------------------------------------------------------------------------------------------------------------------------------------------------------------------------------------------------------------------------------------------------------------------------------------------------------------------------------------------------------------------------------------------------------------------------------------------------------------------------------------------------------------------------------------------------------------------------------------------------------------------------------------------------------------------------------------------------------------------------------------------------------------------------------------------------------------------------------------------------------------------------------------------------------------------------------------------------------------------------------------------------------------------------------------------------------------------------------------------------------------------------------------------------------------------------------------------------------------------------------------------------------------------------------------------------------------------------------------------------------------------------------------------------------------------------------------------------------------------------------------------------------------------------------------------------------------------------------------------------------------------------------------------------------------------------------------------------------------------------------------------------------------------------------------------------------------------------------------------------------------------------------------------------------------------------------------------------------------------------------------------------------------------------------------------------------------------------------------------------------------------------------------------------------------------------------------------------------------------------------------------------------------------------------------------------------------------------------------------------------------------------------------------+----------+-----------------------------------------------+\n",
            "only showing top 5 rows\n",
            "\n"
          ]
        }
      ],
      "source": [
        "# Cell 6 — Column auto-detect + rename to a clean schema\n",
        "from pyspark.sql.functions import col, length\n",
        "\n",
        "cols = set(df_raw.columns)\n",
        "def pick(cands):\n",
        "    for c in cands:\n",
        "        if c in cols: return c\n",
        "    return None\n",
        "\n",
        "text_col  = pick([\"reviewText\",\"review_text\",\"review/text\",\"text\",\"review\",\"review_body\"])\n",
        "id_col    = pick([\"review_id\",\"Id\",\"id\",\"review/id\"])\n",
        "title_col = pick([\"title\",\"review/summary\",\"summary\",\"review_summary\"])\n",
        "asin_col  = pick([\"asin\",\"product_id\",\"item_id\"])\n",
        "\n",
        "if text_col is None:\n",
        "    raise ValueError(\"Text column not found. Please check your CSV headers.\")\n",
        "\n",
        "keep_cols = [text_col] + [c for c in [id_col, title_col, asin_col] if c]\n",
        "df = df_raw.select(*keep_cols)\n",
        "\n",
        "# Standardize names\n",
        "if text_col  != \"review_text\": df = df.withColumnRenamed(text_col,  \"review_text\")\n",
        "if id_col    and id_col   != \"review_id\": df = df.withColumnRenamed(id_col,    \"review_id\")\n",
        "if title_col and title_col!= \"title\":     df = df.withColumnRenamed(title_col, \"title\")\n",
        "if asin_col  and asin_col != \"asin\":      df = df.withColumnRenamed(asin_col,  \"asin\")\n",
        "\n",
        "# Drop only empty/null texts (do NOT drop duplicates here)\n",
        "df = df.filter((col(\"review_text\").isNotNull()) & (length(col(\"review_text\")) > 0))\n",
        "\n",
        "print(\"Rows after basic filtering:\", df.count())\n",
        "df.show(5, truncate=False)\n"
      ]
    },
    {
      "cell_type": "code",
      "execution_count": null,
      "metadata": {
        "colab": {
          "base_uri": "https://localhost:8080/"
        },
        "id": "LMw5rYv2fGiX",
        "outputId": "10d62b08-721b-43c4-fe09-8a8b67122c73"
      },
      "outputs": [
        {
          "output_type": "stream",
          "name": "stdout",
          "text": [
            "[DEV] Sampling enabled (1.0%). Proceeding without expensive counts.\n"
          ]
        }
      ],
      "source": [
        "# Cell 7 — Dev/Final switch (default: sample for Colab Free)\n",
        "# DEV_MODE=True => run on a small sample (fast). DEV_MODE=False => full data (NOT recommended on Colab Free).\n",
        "DEV_MODE = True\n",
        "SAMPLE_FRACTION_DEV = 0.01   # 1% ~ ~30k rows out of 3M (good for iteration)\n",
        "RANDOM_SEED = 42\n",
        "\n",
        "if DEV_MODE:\n",
        "    df = df.sample(False, SAMPLE_FRACTION_DEV, seed=RANDOM_SEED)\n",
        "    print(f\"[DEV] Sampling enabled ({SAMPLE_FRACTION_DEV*100:.1f}%). Proceeding without expensive counts.\")\n",
        "else:\n",
        "    print(\"[FINAL] Sampling disabled. WARNING: Full dataset is heavy for Colab Free.\")\n"
      ]
    },
    {
      "cell_type": "code",
      "execution_count": null,
      "metadata": {
        "colab": {
          "base_uri": "https://localhost:8080/"
        },
        "id": "LV7pqK-4fGrb",
        "outputId": "96cc5987-66b0-4ea4-c0a4-633f6ee6449d"
      },
      "outputs": [
        {
          "output_type": "stream",
          "name": "stdout",
          "text": [
            "Shuffle partitions: 64\n"
          ]
        }
      ],
      "source": [
        "# Cell 7b — Lightweight performance knobs for a single Colab VM\n",
        "# Fewer shuffle partitions => cheaper shuffles. Keep it modest.\n",
        "spark.conf.set(\"spark.sql.shuffle.partitions\", 64)\n",
        "print(\"Shuffle partitions:\", spark.conf.get(\"spark.sql.shuffle.partitions\"))\n"
      ]
    },
    {
      "cell_type": "code",
      "execution_count": null,
      "metadata": {
        "colab": {
          "base_uri": "https://localhost:8080/"
        },
        "id": "4cBr0XrFfGvh",
        "outputId": "86ceef59-c28a-4063-d60a-906ac97eb54d"
      },
      "outputs": [
        {
          "output_type": "stream",
          "name": "stdout",
          "text": [
            "+--------+----------------------------------------------------------------------------------------------+\n",
            "|n_tokens|tokens_preview                                                                                |\n",
            "+--------+----------------------------------------------------------------------------------------------+\n",
            "|112     |[lebron, james, basketball, hero, big, story, got, nba, lebron, poor]                         |\n",
            "|52      |[book, classic, pertains, building, establishing, relationship, works, partner, written, much]|\n",
            "|15      |[plot, characters, incredible, everyone, likes, supernatural, read, book, night, world]       |\n",
            "|67      |[although, title, soul, man, socialism, theoretical, basis, talks, collective, anarchy]       |\n",
            "|35      |[book, best, funny, first, read, felt, like, going, completely, laugh]                        |\n",
            "+--------+----------------------------------------------------------------------------------------------+\n",
            "only showing top 5 rows\n",
            "\n"
          ]
        }
      ],
      "source": [
        "# Cell 8 — Idempotent preprocessing: lowercase + Unicode tokenization + stopwords\n",
        "from pyspark.sql.functions import lower, col\n",
        "from pyspark.ml.feature import RegexTokenizer, StopWordsRemover\n",
        "from pyspark.sql import functions as F\n",
        "\n",
        "# Drop previous outputs if re-running\n",
        "for c in [\"text_lc\", \"tokens_raw\", \"tokens\"]:\n",
        "    if c in df.columns:\n",
        "        df = df.drop(c)\n",
        "\n",
        "# 1) lowercase\n",
        "df = df.withColumn(\"text_lc\", lower(col(\"review_text\")))\n",
        "\n",
        "# 2) Unicode-aware tokenization (split on non-letters/digits)\n",
        "regex_tok = RegexTokenizer(\n",
        "    inputCol=\"text_lc\",\n",
        "    outputCol=\"tokens_raw\",\n",
        "    pattern=\"[^\\\\p{L}\\\\p{N}]+\",\n",
        "    minTokenLength=1\n",
        ")\n",
        "df = regex_tok.transform(df)\n",
        "\n",
        "# 3) remove English stopwords\n",
        "df = StopWordsRemover(inputCol=\"tokens_raw\", outputCol=\"tokens\", caseSensitive=False).transform(df)\n",
        "\n",
        "# sanity peek (cheap)\n",
        "df.select(F.size(\"tokens\").alias(\"n_tokens\"),\n",
        "          F.slice(\"tokens\", 1, 10).alias(\"tokens_preview\")).show(5, truncate=False)\n"
      ]
    },
    {
      "cell_type": "code",
      "execution_count": null,
      "metadata": {
        "id": "7fxV6ihcfG1R"
      },
      "outputs": [],
      "source": [
        "# Cell 9 — Cap token length (ON by default for Colab Free)\n",
        "# This keeps memory/time under control without hurting quality much.\n",
        "from pyspark.sql.functions import slice\n",
        "\n",
        "MAX_TOKENS = 160        # 160 ~ around p90 on your data; use 200 for a bit more recall\n",
        "if isinstance(MAX_TOKENS, int) and MAX_TOKENS > 0:\n",
        "    df = df.withColumn(\"tokens\", slice(col(\"tokens\"), 1, MAX_TOKENS))\n"
      ]
    },
    {
      "cell_type": "code",
      "execution_count": null,
      "metadata": {
        "colab": {
          "base_uri": "https://localhost:8080/"
        },
        "id": "QFS0nVf9fG6d",
        "outputId": "e06ad158-31d5-4835-f7f3-94cbf0a36913"
      },
      "outputs": [
        {
          "output_type": "stream",
          "name": "stdout",
          "text": [
            "Filtered & cached (cheap materialization).\n"
          ]
        }
      ],
      "source": [
        "# Cell 10 — Drop empty rows and cache (fast materialization)\n",
        "from pyspark.sql.functions import size\n",
        "from pyspark import StorageLevel\n",
        "\n",
        "df = df.filter(size(col(\"tokens\")) > 0).persist(StorageLevel.MEMORY_AND_DISK)\n",
        "\n",
        "# Materialize cheaply (avoid full df.count on millions of rows)\n",
        "_ = df.limit(1).count()\n",
        "print(\"Filtered & cached (cheap materialization).\")\n"
      ]
    },
    {
      "cell_type": "code",
      "execution_count": null,
      "metadata": {
        "colab": {
          "base_uri": "https://localhost:8080/"
        },
        "id": "isKhWgLXfG9t",
        "outputId": "cdfc5ed3-22c4-4e3d-cc26-4b3f3bc73156"
      },
      "outputs": [
        {
          "output_type": "stream",
          "name": "stdout",
          "text": [
            "all_terms ready (light settings applied).\n"
          ]
        }
      ],
      "source": [
        "# Cell 11 — N-grams + SET + stable row_id (light defaults)\n",
        "from pyspark.ml.feature import NGram\n",
        "from pyspark.sql.functions import concat, array_distinct, monotonically_increasing_id\n",
        "\n",
        "USE_BIGRAMS = False     # False by default to be lighter on Colab Free; set True if you need more recall\n",
        "MAX_TERMS   = 320       # ~2 * MAX_TOKENS (cap the set size). Set None to disable.\n",
        "\n",
        "# Clean old outputs if re-running\n",
        "for c in [\"bigrams\", \"all_terms\", \"row_id\"]:\n",
        "    if c in df.columns:\n",
        "        df = df.drop(c)\n",
        "\n",
        "# Build all_terms as a SET (unigrams [+ bigrams if enabled])\n",
        "if USE_BIGRAMS:\n",
        "    df = NGram(n=2, inputCol=\"tokens\", outputCol=\"bigrams\").transform(df)\n",
        "    df = df.withColumn(\"all_terms\", array_distinct(concat(col(\"tokens\"), col(\"bigrams\")))).drop(\"bigrams\")\n",
        "else:\n",
        "    df = df.withColumn(\"all_terms\", array_distinct(col(\"tokens\")))\n",
        "\n",
        "# Optional cap on set size\n",
        "if isinstance(MAX_TERMS, int) and MAX_TERMS > 0:\n",
        "    from pyspark.sql.functions import slice\n",
        "    df = df.withColumn(\"all_terms\", slice(col(\"all_terms\"), 1, MAX_TERMS))\n",
        "\n",
        "# safety + stable id\n",
        "from pyspark.sql.functions import size\n",
        "df = df.filter(size(col(\"all_terms\")) > 0)\n",
        "df = df.withColumn(\"row_id\", monotonically_increasing_id())\n",
        "\n",
        "print(\"all_terms ready (light settings applied).\")\n"
      ]
    },
    {
      "cell_type": "code",
      "execution_count": null,
      "metadata": {
        "colab": {
          "base_uri": "https://localhost:8080/"
        },
        "id": "7Thn5XZffedj",
        "outputId": "caf36920-b687-40c0-a0a5-ef20d6f244bf"
      },
      "outputs": [
        {
          "output_type": "stream",
          "name": "stdout",
          "text": [
            "Cell 12: noop.\n"
          ]
        }
      ],
      "source": [
        "# Cell 12 — No-op placeholder (kept for structure)\n",
        "print(\"Cell 12: noop.\")\n"
      ]
    },
    {
      "cell_type": "code",
      "execution_count": null,
      "metadata": {
        "colab": {
          "base_uri": "https://localhost:8080/"
        },
        "id": "KERREN1bfhiL",
        "outputId": "ef5b7fa9-8385-4300-9143-d1d4a1901e3f"
      },
      "outputs": [
        {
          "output_type": "stream",
          "name": "stdout",
          "text": [
            "{'SIM_THRESHOLD': 0.75, 'NUM_HASH_TABLES': 6, 'NUM_FEATURES': 262144, 'BLOCK_BY_ASIN': True, 'OUTPUT_DIR': '/content/similar_reviews_out_DEV'}\n"
          ]
        }
      ],
      "source": [
        "# Cell 13 — Parameters tuned for Colab Free\n",
        "DEV_FLAG = DEV_MODE  # reuse in output path naming\n",
        "SIM_THRESHOLD   = 0.75     # slightly higher threshold reduces pair volume (cheaper)\n",
        "NUM_HASH_TABLES = 6        # fewer hash tables -> faster/cheaper than 8 (still decent recall)\n",
        "NUM_FEATURES    = 262_144  # hashing space (keep as-is)\n",
        "BLOCK_BY_ASIN   = True     # if 'asin' column exists, keep only pairs within the same product (drastically smaller)\n",
        "\n",
        "BASE_OUT   = \"/content/similar_reviews_out\"\n",
        "OUTPUT_DIR = BASE_OUT + (\"_DEV\" if DEV_FLAG else \"_FULL\")\n",
        "\n",
        "print({\"SIM_THRESHOLD\": SIM_THRESHOLD,\n",
        "       \"NUM_HASH_TABLES\": NUM_HASH_TABLES,\n",
        "       \"NUM_FEATURES\": NUM_FEATURES,\n",
        "       \"BLOCK_BY_ASIN\": BLOCK_BY_ASIN,\n",
        "       \"OUTPUT_DIR\": OUTPUT_DIR})\n"
      ]
    },
    {
      "cell_type": "code",
      "execution_count": null,
      "metadata": {
        "colab": {
          "base_uri": "https://localhost:8080/"
        },
        "id": "08tqqJ2pfhf-",
        "outputId": "dbee09fe-5a7e-4843-b90f-3ed3ad373bc7"
      },
      "outputs": [
        {
          "output_type": "stream",
          "name": "stdout",
          "text": [
            "Vectorization done (binary features).\n"
          ]
        }
      ],
      "source": [
        "# Cell 14 — Binary features via HashingTF (set logic for Jaccard)\n",
        "from pyspark.ml.feature import HashingTF\n",
        "\n",
        "cols_to_keep = [\"row_id\", \"review_text\", \"all_terms\"]\n",
        "if \"review_id\" in df.columns: cols_to_keep.insert(1, \"review_id\")\n",
        "if \"asin\" in df.columns:      cols_to_keep.append(\"asin\")  # keep asin for optional blocking\n",
        "\n",
        "htf = HashingTF(inputCol=\"all_terms\", outputCol=\"features\",\n",
        "                numFeatures=NUM_FEATURES, binary=True)\n",
        "\n",
        "dfv = htf.transform(df.select(*cols_to_keep))\n",
        "print(\"Vectorization done (binary features).\")\n"
      ]
    },
    {
      "cell_type": "code",
      "execution_count": null,
      "metadata": {
        "colab": {
          "base_uri": "https://localhost:8080/"
        },
        "id": "q3n-OKxvfhbj",
        "outputId": "5103df05-fc54-4f40-9b8f-d26a8775335a"
      },
      "outputs": [
        {
          "output_type": "stream",
          "name": "stdout",
          "text": [
            "LSH model ready.\n"
          ]
        }
      ],
      "source": [
        "# Cell 15 — Fit MinHashLSH (Jaccard LSH)\n",
        "from pyspark.ml.feature import MinHashLSH\n",
        "mh_model = MinHashLSH(inputCol=\"features\", outputCol=\"hashes\",\n",
        "                      numHashTables=NUM_HASH_TABLES).fit(dfv)\n",
        "print(\"LSH model ready.\")\n"
      ]
    }
  ],
  "metadata": {
    "accelerator": "GPU",
    "colab": {
      "gpuType": "T4",
      "provenance": [],
      "authorship_tag": "ABX9TyODWlIJn2wS+e8k3Fe1oIKv",
      "include_colab_link": true
    },
    "kernelspec": {
      "display_name": "Python 3",
      "name": "python3"
    },
    "language_info": {
      "name": "python"
    }
  },
  "nbformat": 4,
  "nbformat_minor": 0
}